{
 "cells": [
  {
   "cell_type": "code",
   "execution_count": 23,
   "metadata": {},
   "outputs": [],
   "source": [
    "import numpy as np\n",
    "import pandas as pd\n",
    "import matplotlib.pyplot as plt\n",
    "pd.options.mode.chained_assignment = None\n",
    "import warnings\n",
    "warnings.simplefilter(action='ignore', category=FutureWarning)"
   ]
  },
  {
   "cell_type": "code",
   "execution_count": 24,
   "metadata": {},
   "outputs": [
    {
     "data": {
      "text/html": [
       "<div>\n",
       "<style scoped>\n",
       "    .dataframe tbody tr th:only-of-type {\n",
       "        vertical-align: middle;\n",
       "    }\n",
       "\n",
       "    .dataframe tbody tr th {\n",
       "        vertical-align: top;\n",
       "    }\n",
       "\n",
       "    .dataframe thead th {\n",
       "        text-align: right;\n",
       "    }\n",
       "</style>\n",
       "<table border=\"1\" class=\"dataframe\">\n",
       "  <thead>\n",
       "    <tr style=\"text-align: right;\">\n",
       "      <th></th>\n",
       "      <th>Age</th>\n",
       "      <th>Gender</th>\n",
       "      <th>Acq</th>\n",
       "      <th>City</th>\n",
       "      <th>Outbreak</th>\n",
       "      <th>Lat</th>\n",
       "      <th>Long</th>\n",
       "      <th>Outcome</th>\n",
       "    </tr>\n",
       "  </thead>\n",
       "  <tbody>\n",
       "    <tr>\n",
       "      <th>0</th>\n",
       "      <td>50s</td>\n",
       "      <td>MALE</td>\n",
       "      <td>NO KNOWN EPI LINK</td>\n",
       "      <td>Oakville</td>\n",
       "      <td>NaN</td>\n",
       "      <td>43.413997</td>\n",
       "      <td>-79.744796</td>\n",
       "      <td>Resolved</td>\n",
       "    </tr>\n",
       "    <tr>\n",
       "      <th>1</th>\n",
       "      <td>20s</td>\n",
       "      <td>FEMALE</td>\n",
       "      <td>CC</td>\n",
       "      <td>Guelph</td>\n",
       "      <td>NaN</td>\n",
       "      <td>43.524881</td>\n",
       "      <td>-80.233743</td>\n",
       "      <td>Not Resolved</td>\n",
       "    </tr>\n",
       "    <tr>\n",
       "      <th>2</th>\n",
       "      <td>90s</td>\n",
       "      <td>FEMALE</td>\n",
       "      <td>OB</td>\n",
       "      <td>Barrie</td>\n",
       "      <td>Yes</td>\n",
       "      <td>44.410713</td>\n",
       "      <td>-79.686306</td>\n",
       "      <td>Resolved</td>\n",
       "    </tr>\n",
       "    <tr>\n",
       "      <th>3</th>\n",
       "      <td>20s</td>\n",
       "      <td>FEMALE</td>\n",
       "      <td>MISSING INFORMATION</td>\n",
       "      <td>Toronto</td>\n",
       "      <td>NaN</td>\n",
       "      <td>43.656591</td>\n",
       "      <td>-79.379358</td>\n",
       "      <td>Resolved</td>\n",
       "    </tr>\n",
       "    <tr>\n",
       "      <th>4</th>\n",
       "      <td>90s</td>\n",
       "      <td>FEMALE</td>\n",
       "      <td>OB</td>\n",
       "      <td>Ottawa</td>\n",
       "      <td>Yes</td>\n",
       "      <td>45.345665</td>\n",
       "      <td>-75.763912</td>\n",
       "      <td>Fatal</td>\n",
       "    </tr>\n",
       "  </tbody>\n",
       "</table>\n",
       "</div>"
      ],
      "text/plain": [
       "   Age  Gender                  Acq      City Outbreak        Lat       Long  \\\n",
       "0  50s    MALE    NO KNOWN EPI LINK  Oakville      NaN  43.413997 -79.744796   \n",
       "1  20s  FEMALE                   CC    Guelph      NaN  43.524881 -80.233743   \n",
       "2  90s  FEMALE                   OB    Barrie      Yes  44.410713 -79.686306   \n",
       "3  20s  FEMALE  MISSING INFORMATION   Toronto      NaN  43.656591 -79.379358   \n",
       "4  90s  FEMALE                   OB    Ottawa      Yes  45.345665 -75.763912   \n",
       "\n",
       "        Outcome  \n",
       "0      Resolved  \n",
       "1  Not Resolved  \n",
       "2      Resolved  \n",
       "3      Resolved  \n",
       "4         Fatal  "
      ]
     },
     "execution_count": 24,
     "metadata": {},
     "output_type": "execute_result"
    }
   ],
   "source": [
    "covid = pd.read_csv('covid_train.csv')\n",
    "covid.columns=['Age','Gender','Acq','City','Outbreak','Lat','Long','Outcome']\n",
    "covid.head()"
   ]
  },
  {
   "cell_type": "markdown",
   "metadata": {},
   "source": [
    "### Missing Value"
   ]
  },
  {
   "cell_type": "code",
   "execution_count": 25,
   "metadata": {},
   "outputs": [
    {
     "data": {
      "text/plain": [
       "Age            6\n",
       "Gender         0\n",
       "Acq            0\n",
       "City           0\n",
       "Outbreak    9020\n",
       "Lat            0\n",
       "Long           0\n",
       "Outcome        0\n",
       "dtype: int64"
      ]
     },
     "execution_count": 25,
     "metadata": {},
     "output_type": "execute_result"
    }
   ],
   "source": [
    "covid.isna().sum()"
   ]
  },
  {
   "cell_type": "code",
   "execution_count": 26,
   "metadata": {},
   "outputs": [],
   "source": [
    "# Age only has 6 missing values, relatively small amount, just delete\n",
    "covid = covid.dropna(subset=['Age'])"
   ]
  },
  {
   "cell_type": "code",
   "execution_count": 27,
   "metadata": {},
   "outputs": [],
   "source": [
    "# The NA in Outbreak will be replaced as \"No\" \n",
    "covid = covid.fillna(value={\"Outbreak\":\"No\"})"
   ]
  },
  {
   "cell_type": "code",
   "execution_count": 28,
   "metadata": {},
   "outputs": [
    {
     "data": {
      "text/plain": [
       "Age         0\n",
       "Gender      0\n",
       "Acq         0\n",
       "City        0\n",
       "Outbreak    0\n",
       "Lat         0\n",
       "Long        0\n",
       "Outcome     0\n",
       "dtype: int64"
      ]
     },
     "execution_count": 28,
     "metadata": {},
     "output_type": "execute_result"
    }
   ],
   "source": [
    "covid.isna().sum()"
   ]
  },
  {
   "cell_type": "markdown",
   "metadata": {},
   "source": [
    "### Change categorical value into numeric"
   ]
  },
  {
   "cell_type": "markdown",
   "metadata": {},
   "source": [
    "1. Age group here is an ordinary variable (has ranking), the order of numbers have information for age, so it should not be one-hot encoded."
   ]
  },
  {
   "cell_type": "code",
   "execution_count": 29,
   "metadata": {},
   "outputs": [
    {
     "data": {
      "text/plain": [
       "array(['50s', '20s', '90s', '60s', '70s', '30s', '80s', '<20', '40s'],\n",
       "      dtype=object)"
      ]
     },
     "execution_count": 29,
     "metadata": {},
     "output_type": "execute_result"
    }
   ],
   "source": [
    "covid.Age.unique()"
   ]
  },
  {
   "cell_type": "code",
   "execution_count": 30,
   "metadata": {},
   "outputs": [],
   "source": [
    "covid.Age = pd.np.where(covid.Age == '<20', 1,\n",
    "                       pd.np.where(covid.Age == '20s',2,\n",
    "                                  pd.np.where(covid.Age == '30s',3,\n",
    "                                             pd.np.where(covid.Age == '40s',4,\n",
    "                                                        pd.np.where(covid.Age == '50s',5,\n",
    "                                                                   pd.np.where(covid.Age == '60s',6,\n",
    "                                                                              pd.np.where(covid.Age == '70s',7,\n",
    "                                                                                         pd.np.where(covid.Age == '80s',8,9))))))))"
   ]
  },
  {
   "cell_type": "code",
   "execution_count": 31,
   "metadata": {},
   "outputs": [
    {
     "data": {
      "text/plain": [
       "array([5, 2, 9, 6, 7, 3, 8, 1, 4])"
      ]
     },
     "execution_count": 31,
     "metadata": {},
     "output_type": "execute_result"
    }
   ],
   "source": [
    "covid.Age.unique()"
   ]
  },
  {
   "cell_type": "markdown",
   "metadata": {},
   "source": [
    "2. Gender here is a norminal variable which has four catefories, we will use one-hot encoding to transform it into numeric value.\n",
    "\n",
    "Since there only 2 records of \"Gender Diverse\", we included them into \"Unspecified\"."
   ]
  },
  {
   "cell_type": "code",
   "execution_count": 32,
   "metadata": {},
   "outputs": [
    {
     "data": {
      "text/plain": [
       "array(['MALE', 'FEMALE', 'UNSPECIFIED', 'GENDER DIVERSE'], dtype=object)"
      ]
     },
     "execution_count": 32,
     "metadata": {},
     "output_type": "execute_result"
    }
   ],
   "source": [
    "covid.Gender.unique()"
   ]
  },
  {
   "cell_type": "code",
   "execution_count": 33,
   "metadata": {},
   "outputs": [],
   "source": [
    "covid.Gender = pd.np.where(covid.Gender == 'GENDER DIVERSE', 'UNSPECIFIED', covid.Gender)"
   ]
  },
  {
   "cell_type": "code",
   "execution_count": 34,
   "metadata": {},
   "outputs": [],
   "source": [
    "Gender_dum = pd.get_dummies(covid.Gender, prefix = \"Gender\")"
   ]
  },
  {
   "cell_type": "markdown",
   "metadata": {},
   "source": [
    "3. Case Aquisition info is a norminal value here which has 6 categories, we will transform it with one-hot encoding."
   ]
  },
  {
   "cell_type": "code",
   "execution_count": 35,
   "metadata": {},
   "outputs": [
    {
     "data": {
      "text/plain": [
       "array(['NO KNOWN EPI LINK', 'CC', 'OB', 'MISSING INFORMATION', 'TRAVEL',\n",
       "       'UNSPECIFIED EPI LINK'], dtype=object)"
      ]
     },
     "execution_count": 35,
     "metadata": {},
     "output_type": "execute_result"
    }
   ],
   "source": [
    "covid.Acq.unique()"
   ]
  },
  {
   "cell_type": "code",
   "execution_count": 36,
   "metadata": {},
   "outputs": [],
   "source": [
    "Acq_dum = pd.get_dummies(covid.Acq, prefix = \"Acq\")"
   ]
  },
  {
   "cell_type": "markdown",
   "metadata": {},
   "source": [
    "4. City is a norminal variable here which has 34 categories, we will transform them with one-hot encoding"
   ]
  },
  {
   "cell_type": "code",
   "execution_count": 37,
   "metadata": {},
   "outputs": [
    {
     "data": {
      "text/plain": [
       "array(['Oakville', 'Guelph', 'Barrie', 'Toronto', 'Ottawa', 'Newmarket',\n",
       "       'Thorold', 'Whitby', 'Windsor', 'Waterloo', 'Mississauga',\n",
       "       'New Liskeard', 'Simcoe', 'Hamilton', 'Thunder Bay', 'London',\n",
       "       'Point Edward', 'St. Thomas', 'Kingston', 'Cornwall', 'Port Hope',\n",
       "       'North Bay', 'Stratford', 'Owen Sound', 'Brantford', 'Chatham',\n",
       "       'Brockville', 'Timmins', 'Kenora', 'Sudbury', 'Belleville',\n",
       "       'Peterborough', 'Sault Ste. Marie', 'Pembroke'], dtype=object)"
      ]
     },
     "execution_count": 37,
     "metadata": {},
     "output_type": "execute_result"
    }
   ],
   "source": [
    "covid['City'].unique() "
   ]
  },
  {
   "cell_type": "code",
   "execution_count": 38,
   "metadata": {},
   "outputs": [],
   "source": [
    "City_dum = pd.get_dummies(covid.City, prefix = \"City\")"
   ]
  },
  {
   "cell_type": "markdown",
   "metadata": {},
   "source": [
    "5. Ourbreak is a binary value, we will transform it with one-hot encoding"
   ]
  },
  {
   "cell_type": "code",
   "execution_count": 39,
   "metadata": {},
   "outputs": [],
   "source": [
    "Outbreak_dum = pd.get_dummies(covid.Outbreak, prefix = \"Outbreak\")"
   ]
  },
  {
   "cell_type": "markdown",
   "metadata": {},
   "source": [
    "### Dividing dataset"
   ]
  },
  {
   "cell_type": "code",
   "execution_count": 40,
   "metadata": {},
   "outputs": [],
   "source": [
    "from sklearn import model_selection\n",
    "\n",
    "covid = pd.concat([covid,Gender_dum,Acq_dum,City_dum,Outbreak_dum], axis = 1)\n",
    "covid = covid.drop(columns = ['Gender', 'Acq','City','Outbreak'])"
   ]
  },
  {
   "cell_type": "code",
   "execution_count": 41,
   "metadata": {},
   "outputs": [],
   "source": [
    "X_all = covid.drop(columns = ['Outcome'])\n",
    "y_all = covid['Outcome']"
   ]
  },
  {
   "cell_type": "code",
   "execution_count": 42,
   "metadata": {},
   "outputs": [
    {
     "name": "stdout",
     "output_type": "stream",
     "text": [
      "14845 14845\n"
     ]
    }
   ],
   "source": [
    "print(len(X_all), len(y_all))"
   ]
  },
  {
   "cell_type": "code",
   "execution_count": 43,
   "metadata": {},
   "outputs": [],
   "source": [
    "X, X_test, y, y_test = model_selection.train_test_split(X_all, y_all, train_size=0.8, random_state=275)"
   ]
  },
  {
   "cell_type": "markdown",
   "metadata": {},
   "source": [
    "### 10 Fold Cross Validation"
   ]
  },
  {
   "cell_type": "code",
   "execution_count": 44,
   "metadata": {},
   "outputs": [],
   "source": [
    "kfold = model_selection.KFold(n_splits = 10)"
   ]
  },
  {
   "cell_type": "markdown",
   "metadata": {},
   "source": [
    "### Decision Trees"
   ]
  },
  {
   "cell_type": "code",
   "execution_count": 45,
   "metadata": {},
   "outputs": [],
   "source": [
    "from sklearn import tree"
   ]
  },
  {
   "cell_type": "code",
   "execution_count": 46,
   "metadata": {},
   "outputs": [],
   "source": [
    "dep_list = [3,5,10,None]\n",
    "acc_list = []\n",
    "\n",
    "for dep in dep_list:\n",
    "    \n",
    "    DecTree = tree.DecisionTreeClassifier(max_depth = dep, random_state = 0)\n",
    "    acc = model_selection.cross_val_score(DecTree, X, y, cv=kfold)\n",
    "    acc_list.append(acc.mean().round(4))"
   ]
  },
  {
   "cell_type": "code",
   "execution_count": 47,
   "metadata": {},
   "outputs": [
    {
     "name": "stdout",
     "output_type": "stream",
     "text": [
      "   Accuracy  Max Depth of Trees\n",
      "0    0.6501                 3.0\n",
      "1    0.6570                 5.0\n",
      "2    0.6573                10.0\n",
      "3    0.6447                 NaN\n"
     ]
    }
   ],
   "source": [
    "AccTable = pd.DataFrame(data={'Accuracy':acc_list, 'Max Depth of Trees':dep_list})\n",
    "print(AccTable)"
   ]
  },
  {
   "cell_type": "code",
   "execution_count": 48,
   "metadata": {},
   "outputs": [
    {
     "data": {
      "image/png": "[encoded data removed]",
      "text/plain": [
       "<Figure size 432x288 with 1 Axes>"
      ]
     },
     "metadata": {
      "needs_background": "light"
     },
     "output_type": "display_data"
    }
   ],
   "source": [
    "plt.plot(['3','5','10','None'], acc_list)\n",
    "plt.ylabel('Accuracy')\n",
    "plt.xlabel('Max Depth of Trees')\n",
    "plt.show()"
   ]
  },
  {
   "cell_type": "markdown",
   "metadata": {},
   "source": [
    "For Decision Trees, the best classfier is when Max Depth of Trees set as 10, and the corresponding Mean of Accuracy = 65.73%"
   ]
  },
  {
   "cell_type": "markdown",
   "metadata": {},
   "source": [
    "#### Splitting rules"
   ]
  },
  {
   "cell_type": "code",
   "execution_count": 49,
   "metadata": {},
   "outputs": [],
   "source": [
    "from sklearn.tree import export_text\n",
    "model = tree.DecisionTreeClassifier(max_depth = 5, random_state = 0).fit(X,y)\n",
    "\n",
    "tree_rules = export_text(model, feature_names=list(X.columns))"
   ]
  },
  {
   "cell_type": "code",
   "execution_count": 50,
   "metadata": {},
   "outputs": [
    {
     "name": "stdout",
     "output_type": "stream",
     "text": [
      "|--- Age <= 6.50\n",
      "|   |--- Acq_MISSING INFORMATION <= 0.50\n",
      "|   |   |--- Age <= 5.50\n",
      "|   |   |   |--- Long <= -79.42\n",
      "|   |   |   |   |--- Acq_OB <= 0.50\n",
      "|   |   |   |   |   |--- class: Resolved\n",
      "|   |   |   |   |--- Acq_OB >  0.50\n",
      "|   |   |   |   |   |--- class: Not Resolved\n",
      "|   |   |   |--- Long >  -79.42\n",
      "|   |   |   |   |--- Acq_OB <= 0.50\n",
      "|   |   |   |   |   |--- class: Resolved\n",
      "|   |   |   |   |--- Acq_OB >  0.50\n",
      "|   |   |   |   |   |--- class: Resolved\n",
      "|   |   |--- Age >  5.50\n",
      "|   |   |   |--- Acq_OB <= 0.50\n",
      "|   |   |   |   |--- Long <= -79.43\n",
      "|   |   |   |   |   |--- class: Resolved\n",
      "|   |   |   |   |--- Long >  -79.43\n",
      "|   |   |   |   |   |--- class: Resolved\n",
      "|   |   |   |--- Acq_OB >  0.50\n",
      "|   |   |   |   |--- Outbreak_No <= 0.50\n",
      "|   |   |   |   |   |--- class: Fatal\n",
      "|   |   |   |   |--- Outbreak_No >  0.50\n",
      "|   |   |   |   |   |--- class: Not Resolved\n",
      "|   |--- Acq_MISSING INFORMATION >  0.50\n",
      "|   |   |--- City_Toronto <= 0.50\n",
      "|   |   |   |--- City_Newmarket <= 0.50\n",
      "|   |   |   |   |--- City_London <= 0.50\n",
      "|   |   |   |   |   |--- class: Not Resolved\n",
      "|   |   |   |   |--- City_London >  0.50\n",
      "|   |   |   |   |   |--- class: Not Resolved\n",
      "|   |   |   |--- City_Newmarket >  0.50\n",
      "|   |   |   |   |--- Age <= 5.50\n",
      "|   |   |   |   |   |--- class: Not Resolved\n",
      "|   |   |   |   |--- Age >  5.50\n",
      "|   |   |   |   |   |--- class: Not Resolved\n",
      "|   |   |--- City_Toronto >  0.50\n",
      "|   |   |   |--- Age <= 5.50\n",
      "|   |   |   |   |--- Age <= 4.50\n",
      "|   |   |   |   |   |--- class: Not Resolved\n",
      "|   |   |   |   |--- Age >  4.50\n",
      "|   |   |   |   |   |--- class: Not Resolved\n",
      "|   |   |   |--- Age >  5.50\n",
      "|   |   |   |   |--- Outbreak_No <= 0.50\n",
      "|   |   |   |   |   |--- class: Fatal\n",
      "|   |   |   |   |--- Outbreak_No >  0.50\n",
      "|   |   |   |   |   |--- class: Not Resolved\n",
      "|--- Age >  6.50\n",
      "|   |--- Outbreak_No <= 0.50\n",
      "|   |   |--- City_Chatham <= 0.50\n",
      "|   |   |   |--- Age <= 7.50\n",
      "|   |   |   |   |--- Acq_OB <= 0.50\n",
      "|   |   |   |   |   |--- class: Fatal\n",
      "|   |   |   |   |--- Acq_OB >  0.50\n",
      "|   |   |   |   |   |--- class: Fatal\n",
      "|   |   |   |--- Age >  7.50\n",
      "|   |   |   |   |--- Lat <= 48.44\n",
      "|   |   |   |   |   |--- class: Fatal\n",
      "|   |   |   |   |--- Lat >  48.44\n",
      "|   |   |   |   |   |--- class: Not Resolved\n",
      "|   |   |--- City_Chatham >  0.50\n",
      "|   |   |   |--- class: Not Resolved\n",
      "|   |--- Outbreak_No >  0.50\n",
      "|   |   |--- Age <= 7.50\n",
      "|   |   |   |--- Acq_MISSING INFORMATION <= 0.50\n",
      "|   |   |   |   |--- City_Mississauga <= 0.50\n",
      "|   |   |   |   |   |--- class: Fatal\n",
      "|   |   |   |   |--- City_Mississauga >  0.50\n",
      "|   |   |   |   |   |--- class: Resolved\n",
      "|   |   |   |--- Acq_MISSING INFORMATION >  0.50\n",
      "|   |   |   |   |--- Lat <= 44.23\n",
      "|   |   |   |   |   |--- class: Not Resolved\n",
      "|   |   |   |   |--- Lat >  44.23\n",
      "|   |   |   |   |   |--- class: Not Resolved\n",
      "|   |   |--- Age >  7.50\n",
      "|   |   |   |--- Acq_NO KNOWN EPI LINK <= 0.50\n",
      "|   |   |   |   |--- City_Toronto <= 0.50\n",
      "|   |   |   |   |   |--- class: Fatal\n",
      "|   |   |   |   |--- City_Toronto >  0.50\n",
      "|   |   |   |   |   |--- class: Fatal\n",
      "|   |   |   |--- Acq_NO KNOWN EPI LINK >  0.50\n",
      "|   |   |   |   |--- Long <= -79.58\n",
      "|   |   |   |   |   |--- class: Fatal\n",
      "|   |   |   |   |--- Long >  -79.58\n",
      "|   |   |   |   |   |--- class: Fatal\n",
      "\n"
     ]
    }
   ],
   "source": [
    "print(tree_rules)"
   ]
  },
  {
   "cell_type": "markdown",
   "metadata": {},
   "source": [
    "As it is known, greedy algorithmn and purity(GINI) is used in sklearn to decide the rules of splitting. \n",
    "\n",
    "In this case, \"Age\" is the first criterion used to split, which means \"age\" is the best feature to correctly label the target feature. In the mean time, \"City\" is the last one used to split, which means if we are using \"city\" to label the \"outcome\", we are not expecting a good result.\n",
    "\n",
    "Besides, for the \"Age group > 6.5, \"Outbreak\" is the next feature to split, which means elder people(>65 yo) living in the outbreak city are more likely to be affected by COVID. On the other hand, it seems that younger peope(<65 yo) are not likely to be affected even if living in an outbreak city.\n",
    "\n",
    "In the tree of Age group <6.5, next important criterion is \"Acquisition channel\", whether people are getting the virus from community transition( if Acq_MISSING INFORMATION >0.5) is critical to young people(<65 yo). This indicates that among young people, community transition plays a very important role and it is a more important factor than it to senior people. \n",
    "\n"
   ]
  },
  {
   "cell_type": "markdown",
   "metadata": {},
   "source": [
    "### Performance on Test "
   ]
  },
  {
   "cell_type": "code",
   "execution_count": 51,
   "metadata": {},
   "outputs": [
    {
     "name": "stdout",
     "output_type": "stream",
     "text": [
      "Accuracy: 0.66\n"
     ]
    }
   ],
   "source": [
    "from sklearn import metrics\n",
    "\n",
    "DecTree = tree.DecisionTreeClassifier(max_depth = 10, random_state = 0)\n",
    "DecTree.fit(X,y)\n",
    "y_pred = DecTree.predict(X_test)\n",
    "\n",
    "acc = metrics.accuracy_score(y_test, y_pred).round(2)\n",
    "print('Accuracy:', acc)"
   ]
  },
  {
   "cell_type": "markdown",
   "metadata": {},
   "source": [
    "And the model with tuned parameters have an accuracy of 0.66 while evaluating the test set."
   ]
  },
  {
   "cell_type": "markdown",
   "metadata": {},
   "source": [
    "### Random Forests"
   ]
  },
  {
   "cell_type": "code",
   "execution_count": 52,
   "metadata": {},
   "outputs": [],
   "source": [
    "from sklearn import ensemble"
   ]
  },
  {
   "cell_type": "code",
   "execution_count": 53,
   "metadata": {},
   "outputs": [],
   "source": [
    "dep_list = [3,5,10,None]\n",
    "n_list = [5,10,50,150,200]\n",
    "acc_list = []\n",
    "dep_new = []\n",
    "n_new=[]\n",
    "\n",
    "for dep in dep_list:\n",
    "    for n in n_list:\n",
    "    \n",
    "        RanFore = ensemble.RandomForestClassifier(max_depth = dep, n_estimators = n, random_state = 0 )\n",
    "        acc = model_selection.cross_val_score(RanFore, X, y, cv=kfold)\n",
    "        acc_list.append(acc.mean().round(4))\n",
    "        dep_new.append(dep)\n",
    "        n_new.append(n)"
   ]
  },
  {
   "cell_type": "code",
   "execution_count": 54,
   "metadata": {
    "scrolled": false
   },
   "outputs": [
    {
     "name": "stdout",
     "output_type": "stream",
     "text": [
      "    Accuracy  Max Depth of Trees  Number of Trees\n",
      "0     0.5891                 3.0                5\n",
      "1     0.6034                 3.0               10\n",
      "2     0.6130                 3.0               50\n",
      "3     0.6197                 3.0              150\n",
      "4     0.6234                 3.0              200\n",
      "5     0.6327                 5.0                5\n",
      "6     0.6283                 5.0               10\n",
      "7     0.6391                 5.0               50\n",
      "8     0.6415                 5.0              150\n",
      "9     0.6428                 5.0              200\n",
      "10    0.6607                10.0                5\n",
      "11    0.6627                10.0               10\n",
      "12    0.6663                10.0               50\n",
      "13    0.6669                10.0              150\n",
      "14    0.6668                10.0              200\n",
      "15    0.6457                 NaN                5\n",
      "16    0.6477                 NaN               10\n",
      "17    0.6482                 NaN               50\n",
      "18    0.6488                 NaN              150\n",
      "19    0.6491                 NaN              200\n"
     ]
    }
   ],
   "source": [
    "AccTable = pd.DataFrame(data={'Accuracy':acc_list, 'Max Depth of Trees':dep_new, \"Number of Trees\":n_new})\n",
    "print(AccTable)"
   ]
  },
  {
   "cell_type": "markdown",
   "metadata": {},
   "source": [
    "For Random Forests, the best classfier is when Max Depth of Trees set as 10, Number of Trees set as 150, and the corresponding Mean of Accuracy = 66.69%"
   ]
  },
  {
   "cell_type": "code",
   "execution_count": 55,
   "metadata": {},
   "outputs": [],
   "source": [
    "AccTable['Max Depth of Trees'] = pd.np.where(AccTable['Max Depth of Trees'] == 'NaN', 'None', AccTable['Max Depth of Trees'])"
   ]
  },
  {
   "cell_type": "code",
   "execution_count": 56,
   "metadata": {},
   "outputs": [],
   "source": [
    "import seaborn as sns"
   ]
  },
  {
   "cell_type": "code",
   "execution_count": 57,
   "metadata": {},
   "outputs": [
    {
     "data": {
      "text/plain": [
       "<AxesSubplot:xlabel='Max Depth of Trees', ylabel='Number of Trees'>"
      ]
     },
     "execution_count": 57,
     "metadata": {},
     "output_type": "execute_result"
    },
    {
     "data": {
      "image/png": "[encoded data removed]",
      "text/plain": [
       "<Figure size 720x432 with 2 Axes>"
      ]
     },
     "metadata": {
      "needs_background": "light"
     },
     "output_type": "display_data"
    }
   ],
   "source": [
    "plt.figure(figsize=(10, 6))\n",
    "sns.heatmap(pd.pivot_table(AccTable, values='Accuracy', \n",
    "                     index=['Number of Trees'], \n",
    "                     columns=['Max Depth of Trees']),\n",
    "           cmap=\"YlGnBu\")"
   ]
  },
  {
   "cell_type": "markdown",
   "metadata": {},
   "source": [
    "### Performance on Test "
   ]
  },
  {
   "cell_type": "code",
   "execution_count": 69,
   "metadata": {},
   "outputs": [
    {
     "name": "stdout",
     "output_type": "stream",
     "text": [
      "Accuracy: 0.68\n"
     ]
    }
   ],
   "source": [
    "RanFore = ensemble.RandomForestClassifier(max_depth = 10, n_estimators = 150, random_state = 0)\n",
    "RanFore.fit(X,y)\n",
    "y_pred = RanFore.predict(X_test)\n",
    "\n",
    "acc = metrics.accuracy_score(y_test, y_pred).round(2)\n",
    "print('Accuracy:', acc)"
   ]
  },
  {
   "cell_type": "markdown",
   "metadata": {},
   "source": [
    "The model with tuned parameters have an accuracy of 0.68 while evaluating the test set."
   ]
  },
  {
   "cell_type": "markdown",
   "metadata": {},
   "source": [
    "### Gradient Boosting"
   ]
  },
  {
   "cell_type": "code",
   "execution_count": 59,
   "metadata": {},
   "outputs": [],
   "source": [
    "n_list = [5,10,50,150,200]\n",
    "acc_list = []\n",
    "\n",
    "for n in n_list:\n",
    "    \n",
    "    GradBoo = ensemble.GradientBoostingClassifier(n_estimators = n, random_state = 0 )\n",
    "    acc = model_selection.cross_val_score(GradBoo, X, y, cv=kfold)\n",
    "    acc_list.append(acc.mean().round(5))"
   ]
  },
  {
   "cell_type": "code",
   "execution_count": 60,
   "metadata": {},
   "outputs": [
    {
     "name": "stdout",
     "output_type": "stream",
     "text": [
      "   Accuracy  Number of Trees\n",
      "0   0.65830                5\n",
      "1   0.65957               10\n",
      "2   0.66454               50\n",
      "3   0.66504              150\n",
      "4   0.66428              200\n"
     ]
    }
   ],
   "source": [
    "AccTable = pd.DataFrame(data={'Accuracy':acc_list, 'Number of Trees':n_list})\n",
    "print(AccTable)"
   ]
  },
  {
   "cell_type": "code",
   "execution_count": 61,
   "metadata": {},
   "outputs": [
    {
     "data": {
      "image/png": "[encoded data removed]",
      "text/plain": [
       "<Figure size 432x288 with 1 Axes>"
      ]
     },
     "metadata": {
      "needs_background": "light"
     },
     "output_type": "display_data"
    }
   ],
   "source": [
    "plt.plot(['5','10','50','150','200'], acc_list)\n",
    "plt.ylabel('Accuracy')\n",
    "plt.xlabel('Number of Trees')\n",
    "plt.show()"
   ]
  },
  {
   "cell_type": "markdown",
   "metadata": {},
   "source": [
    "### Performance on Test "
   ]
  },
  {
   "cell_type": "code",
   "execution_count": 62,
   "metadata": {},
   "outputs": [
    {
     "name": "stdout",
     "output_type": "stream",
     "text": [
      "Accuracy: 0.68\n"
     ]
    }
   ],
   "source": [
    "GradBoo = ensemble.GradientBoostingClassifier(n_estimators = 150, random_state = 0 )\n",
    "GradBoo.fit(X,y)\n",
    "y_pred = GradBoo.predict(X_test)\n",
    "\n",
    "acc = metrics.accuracy_score(y_test, y_pred).round(2)\n",
    "print('Accuracy:', acc)"
   ]
  },
  {
   "cell_type": "markdown",
   "metadata": {},
   "source": [
    "So the model with tuned parameters have an accuracy of 0.68 while evaluating the test set."
   ]
  },
  {
   "cell_type": "markdown",
   "metadata": {},
   "source": [
    "For Gradient Boosting, the best classfier is when Number of Trees set as 150, and the according Mean of Accuracy = 66.50%"
   ]
  },
  {
   "cell_type": "markdown",
   "metadata": {},
   "source": [
    "GBT will usually perform better, but they are hard to get right since too many hyper-parameteres to tune, and easily to overfit\n",
    "as what happend in seeds dataset.\n",
    "\n",
    "The popularity of Random Forest is primarily due to how well it performs in a multitude of data situations. \n",
    "It tends to handle highly correlated features well, where as a linear regression model would not. \n",
    "In this case, we demonstrate the performance ability even with only a few features and almost all of them \n",
    "being highly correlated with each other.\n",
    "\n",
    "Decision Tree depend highly on specific set of features. So in most cases, Decision Tree can not generalize over \n",
    "the data in a better way. However it is easier to interpret, like the splittng rules plotted. Besides, since only \n",
    "one tree is generated, the time consuming is much less than GBT and Random Forest. That can be crucial when we are \n",
    "working with a tight deadline in a ml project.\n",
    "\n",
    "For the seeds dataset, it is a relatively small dataset, we can see that a more complex model cannot confirmly make sure the performance is better.(all around 90% accuracy) Plus more complex models may lead to overfitting, for small datasets in the future, it might be better to choose some simple models which have a faster running time and also can achieve a fair performance.\n",
    "\n",
    "For the covid dataset, we can see that Ensemble methods achieve higher performances than decision tree itself, which is within our expectation. "
   ]
  },
  {
   "cell_type": "markdown",
   "metadata": {},
   "source": [
    "### Naive Bayes"
   ]
  },
  {
   "cell_type": "code",
   "execution_count": 63,
   "metadata": {},
   "outputs": [],
   "source": [
    "from sklearn import naive_bayes "
   ]
  },
  {
   "cell_type": "code",
   "execution_count": 64,
   "metadata": {},
   "outputs": [],
   "source": [
    "var_list = [1e-10,1e-9,1e-5,1e-3,1e-1]\n",
    "acc_list = []\n",
    "\n",
    "for var in var_list:\n",
    "    \n",
    "    NB = naive_bayes.GaussianNB(var_smoothing = var )\n",
    "    acc = model_selection.cross_val_score(NB, X, y, cv=kfold)\n",
    "    acc_list.append(acc.mean().round(4))"
   ]
  },
  {
   "cell_type": "code",
   "execution_count": 65,
   "metadata": {},
   "outputs": [
    {
     "name": "stdout",
     "output_type": "stream",
     "text": [
      "   Accuracy  Var Smoothing\n",
      "0    0.3835   1.000000e-10\n",
      "1    0.4046   1.000000e-09\n",
      "2    0.5709   1.000000e-05\n",
      "3    0.6077   1.000000e-03\n",
      "4    0.6500   1.000000e-01\n"
     ]
    }
   ],
   "source": [
    "AccTable = pd.DataFrame(data={'Accuracy':acc_list, 'Var Smoothing':var_list})\n",
    "print(AccTable)"
   ]
  },
  {
   "cell_type": "code",
   "execution_count": 66,
   "metadata": {},
   "outputs": [
    {
     "data": {
      "image/png": "[encoded data removed]",
      "text/plain": [
       "<Figure size 432x288 with 1 Axes>"
      ]
     },
     "metadata": {
      "needs_background": "light"
     },
     "output_type": "display_data"
    }
   ],
   "source": [
    "plt.plot(list(map(str,var_list)), acc_list)\n",
    "plt.ylabel('Accuracy')\n",
    "plt.xlabel('Var Smoothing')\n",
    "plt.show()"
   ]
  },
  {
   "cell_type": "markdown",
   "metadata": {},
   "source": [
    "For Gaussian Naive Bayes, the best classfier is when Var Smoothing set as 0.1, and the according Mean of Accuracy = 65%.\n",
    "\n",
    "var_smmoothing stands for the portion of the largest variance of all features that is added to variances for calculation stability.This essentially smooths the curve and accounts for more samples that are further away from the distribution mean."
   ]
  },
  {
   "cell_type": "markdown",
   "metadata": {},
   "source": [
    "### Performance on Test"
   ]
  },
  {
   "cell_type": "code",
   "execution_count": 68,
   "metadata": {},
   "outputs": [
    {
     "name": "stdout",
     "output_type": "stream",
     "text": [
      "Accuracy: 0.66\n"
     ]
    }
   ],
   "source": [
    "NB = naive_bayes.GaussianNB(var_smoothing = 0.1)\n",
    "NB.fit(X,y)\n",
    "y_pred = NB.predict(X_test)\n",
    "\n",
    "acc = metrics.accuracy_score(y_test, y_pred).round(2)\n",
    "print('Accuracy:', acc)"
   ]
  },
  {
   "cell_type": "markdown",
   "metadata": {},
   "source": [
    "So the model with tuned parameters have an accuracy of 0.66 while evaluating the test set."
   ]
  },
  {
   "cell_type": "markdown",
   "metadata": {},
   "source": [
    "### Part 2"
   ]
  },
  {
   "cell_type": "markdown",
   "metadata": {},
   "source": [
    "For seed dataset, NB performs better than Decision Tree. This is partly because GaussianNB works better in feature\n",
    "with continous data and when the dataset is small. Since we assume the seed dataset is described by the Gaussian distribution with no co-variance \n",
    "between features. This model can be fit by simply finding the mean and standard deviation of the points within each\n",
    "label, which is all what is needed to define such a distribution.\n",
    "\n",
    "For COVID dataset, Decision Tree is a bit better than NB since the input features are not all continous data. \n",
    "Using Hot-encoding add lots of non-continous features to the inputs. Besides, there are abundant features in the \n",
    "inputs, which may make other model outperforms NB\n",
    "\n",
    "Decision trees are more flexible than NB. Besides, Decision Tree pruning may neglect some key values in training data,\n",
    "which can lead the accuracy for a toss.\n",
    "On the other hand, NB is a generative model while Decision Tree is a discriminative model."
   ]
  },
  {
   "cell_type": "markdown",
   "metadata": {},
   "source": [
    "### Test"
   ]
  },
  {
   "cell_type": "code",
   "execution_count": 92,
   "metadata": {},
   "outputs": [
    {
     "data": {
      "text/html": [
       "<div>\n",
       "<style scoped>\n",
       "    .dataframe tbody tr th:only-of-type {\n",
       "        vertical-align: middle;\n",
       "    }\n",
       "\n",
       "    .dataframe tbody tr th {\n",
       "        vertical-align: top;\n",
       "    }\n",
       "\n",
       "    .dataframe thead th {\n",
       "        text-align: right;\n",
       "    }\n",
       "</style>\n",
       "<table border=\"1\" class=\"dataframe\">\n",
       "  <thead>\n",
       "    <tr style=\"text-align: right;\">\n",
       "      <th></th>\n",
       "      <th>Age</th>\n",
       "      <th>Gender</th>\n",
       "      <th>Acq</th>\n",
       "      <th>City</th>\n",
       "      <th>Outbreak</th>\n",
       "      <th>Lat</th>\n",
       "      <th>Long</th>\n",
       "    </tr>\n",
       "  </thead>\n",
       "  <tbody>\n",
       "    <tr>\n",
       "      <th>0</th>\n",
       "      <td>80s</td>\n",
       "      <td>FEMALE</td>\n",
       "      <td>MISSING INFORMATION</td>\n",
       "      <td>Toronto</td>\n",
       "      <td>NaN</td>\n",
       "      <td>43.656591</td>\n",
       "      <td>-79.379358</td>\n",
       "    </tr>\n",
       "    <tr>\n",
       "      <th>1</th>\n",
       "      <td>80s</td>\n",
       "      <td>MALE</td>\n",
       "      <td>NO KNOWN EPI LINK</td>\n",
       "      <td>Toronto</td>\n",
       "      <td>Yes</td>\n",
       "      <td>43.656591</td>\n",
       "      <td>-79.379358</td>\n",
       "    </tr>\n",
       "    <tr>\n",
       "      <th>2</th>\n",
       "      <td>40s</td>\n",
       "      <td>FEMALE</td>\n",
       "      <td>OB</td>\n",
       "      <td>Stratford</td>\n",
       "      <td>Yes</td>\n",
       "      <td>43.368662</td>\n",
       "      <td>-81.001913</td>\n",
       "    </tr>\n",
       "    <tr>\n",
       "      <th>3</th>\n",
       "      <td>30s</td>\n",
       "      <td>MALE</td>\n",
       "      <td>NO KNOWN EPI LINK</td>\n",
       "      <td>Mississauga</td>\n",
       "      <td>NaN</td>\n",
       "      <td>43.647471</td>\n",
       "      <td>-79.708893</td>\n",
       "    </tr>\n",
       "    <tr>\n",
       "      <th>4</th>\n",
       "      <td>60s</td>\n",
       "      <td>MALE</td>\n",
       "      <td>NO KNOWN EPI LINK</td>\n",
       "      <td>London</td>\n",
       "      <td>NaN</td>\n",
       "      <td>42.981468</td>\n",
       "      <td>-81.254016</td>\n",
       "    </tr>\n",
       "  </tbody>\n",
       "</table>\n",
       "</div>"
      ],
      "text/plain": [
       "   Age  Gender                  Acq         City Outbreak        Lat  \\\n",
       "0  80s  FEMALE  MISSING INFORMATION      Toronto      NaN  43.656591   \n",
       "1  80s    MALE    NO KNOWN EPI LINK      Toronto      Yes  43.656591   \n",
       "2  40s  FEMALE                   OB    Stratford      Yes  43.368662   \n",
       "3  30s    MALE    NO KNOWN EPI LINK  Mississauga      NaN  43.647471   \n",
       "4  60s    MALE    NO KNOWN EPI LINK       London      NaN  42.981468   \n",
       "\n",
       "        Long  \n",
       "0 -79.379358  \n",
       "1 -79.379358  \n",
       "2 -81.001913  \n",
       "3 -79.708893  \n",
       "4 -81.254016  "
      ]
     },
     "execution_count": 92,
     "metadata": {},
     "output_type": "execute_result"
    }
   ],
   "source": [
    "test = pd.read_csv('covid_tests.csv')\n",
    "test = test.drop(columns=['id'])\n",
    "test.columns=['Age','Gender','Acq','City','Outbreak','Lat','Long']\n",
    "test.head()"
   ]
  },
  {
   "cell_type": "code",
   "execution_count": 93,
   "metadata": {},
   "outputs": [
    {
     "data": {
      "text/plain": [
       "Age            0\n",
       "Gender         0\n",
       "Acq            0\n",
       "City           0\n",
       "Outbreak    2288\n",
       "Lat            0\n",
       "Long           0\n",
       "dtype: int64"
      ]
     },
     "execution_count": 93,
     "metadata": {},
     "output_type": "execute_result"
    }
   ],
   "source": [
    "test.isna().sum()"
   ]
  },
  {
   "cell_type": "code",
   "execution_count": 94,
   "metadata": {},
   "outputs": [],
   "source": [
    "# The NA in Outbreak will be replaced as \"No\" \n",
    "test = test.fillna(value={\"Outbreak\":\"No\"})"
   ]
  },
  {
   "cell_type": "code",
   "execution_count": 95,
   "metadata": {},
   "outputs": [],
   "source": [
    "test.Age = pd.np.where(test.Age == '<20', 1,\n",
    "                       pd.np.where(test.Age == '20s',2,\n",
    "                                  pd.np.where(test.Age == '30s',3,\n",
    "                                             pd.np.where(test.Age == '40s',4,\n",
    "                                                        pd.np.where(test.Age == '50s',5,\n",
    "                                                                   pd.np.where(test.Age == '60s',6,\n",
    "                                                                              pd.np.where(test.Age == '70s',7,\n",
    "                                                                                         pd.np.where(test.Age == '80s',8,9))))))))"
   ]
  },
  {
   "cell_type": "code",
   "execution_count": 96,
   "metadata": {},
   "outputs": [],
   "source": [
    "test.Gender = pd.np.where(test.Gender == 'GENDER DIVERSE', 'UNSPECIFIED', test.Gender)"
   ]
  },
  {
   "cell_type": "code",
   "execution_count": 97,
   "metadata": {},
   "outputs": [],
   "source": [
    "Gender_dum = pd.get_dummies(test.Gender, prefix = \"Gender\")"
   ]
  },
  {
   "cell_type": "code",
   "execution_count": 98,
   "metadata": {},
   "outputs": [],
   "source": [
    "Acq_dum = pd.get_dummies(test.Acq, prefix = \"Acq\")"
   ]
  },
  {
   "cell_type": "code",
   "execution_count": 99,
   "metadata": {},
   "outputs": [],
   "source": [
    "## train has 38 cities, test has 36 cities\n",
    "\n",
    "City_dum = pd.get_dummies(test.City, prefix = \"City\")"
   ]
  },
  {
   "cell_type": "code",
   "execution_count": 100,
   "metadata": {},
   "outputs": [],
   "source": [
    "Outbreak_dum = pd.get_dummies(test.Outbreak, prefix = \"Outbreak\")"
   ]
  },
  {
   "cell_type": "code",
   "execution_count": 101,
   "metadata": {},
   "outputs": [],
   "source": [
    "test = pd.concat([test,Gender_dum,Acq_dum,City_dum,Outbreak_dum], axis = 1)\n",
    "test = test.drop(columns = ['Gender', 'Acq','City','Outbreak'])"
   ]
  },
  {
   "cell_type": "code",
   "execution_count": 102,
   "metadata": {},
   "outputs": [],
   "source": [
    "test['Sault Ste. Marie'] = 0"
   ]
  },
  {
   "cell_type": "code",
   "execution_count": 103,
   "metadata": {},
   "outputs": [],
   "source": [
    "test['Pembroke'] = 0"
   ]
  },
  {
   "cell_type": "code",
   "execution_count": 104,
   "metadata": {},
   "outputs": [
    {
     "data": {
      "text/html": [
       "<div>\n",
       "<style scoped>\n",
       "    .dataframe tbody tr th:only-of-type {\n",
       "        vertical-align: middle;\n",
       "    }\n",
       "\n",
       "    .dataframe tbody tr th {\n",
       "        vertical-align: top;\n",
       "    }\n",
       "\n",
       "    .dataframe thead th {\n",
       "        text-align: right;\n",
       "    }\n",
       "</style>\n",
       "<table border=\"1\" class=\"dataframe\">\n",
       "  <thead>\n",
       "    <tr style=\"text-align: right;\">\n",
       "      <th></th>\n",
       "      <th>Age</th>\n",
       "      <th>Lat</th>\n",
       "      <th>Long</th>\n",
       "      <th>Gender_FEMALE</th>\n",
       "      <th>Gender_MALE</th>\n",
       "      <th>Gender_UNSPECIFIED</th>\n",
       "      <th>Acq_CC</th>\n",
       "      <th>Acq_MISSING INFORMATION</th>\n",
       "      <th>Acq_NO KNOWN EPI LINK</th>\n",
       "      <th>Acq_OB</th>\n",
       "      <th>...</th>\n",
       "      <th>City_Thunder Bay</th>\n",
       "      <th>City_Timmins</th>\n",
       "      <th>City_Toronto</th>\n",
       "      <th>City_Waterloo</th>\n",
       "      <th>City_Whitby</th>\n",
       "      <th>City_Windsor</th>\n",
       "      <th>Outbreak_No</th>\n",
       "      <th>Outbreak_Yes</th>\n",
       "      <th>Sault Ste. Marie</th>\n",
       "      <th>Pembroke</th>\n",
       "    </tr>\n",
       "  </thead>\n",
       "  <tbody>\n",
       "    <tr>\n",
       "      <th>0</th>\n",
       "      <td>8</td>\n",
       "      <td>43.656591</td>\n",
       "      <td>-79.379358</td>\n",
       "      <td>1</td>\n",
       "      <td>0</td>\n",
       "      <td>0</td>\n",
       "      <td>0</td>\n",
       "      <td>1</td>\n",
       "      <td>0</td>\n",
       "      <td>0</td>\n",
       "      <td>...</td>\n",
       "      <td>0</td>\n",
       "      <td>0</td>\n",
       "      <td>1</td>\n",
       "      <td>0</td>\n",
       "      <td>0</td>\n",
       "      <td>0</td>\n",
       "      <td>1</td>\n",
       "      <td>0</td>\n",
       "      <td>0</td>\n",
       "      <td>0</td>\n",
       "    </tr>\n",
       "    <tr>\n",
       "      <th>1</th>\n",
       "      <td>8</td>\n",
       "      <td>43.656591</td>\n",
       "      <td>-79.379358</td>\n",
       "      <td>0</td>\n",
       "      <td>1</td>\n",
       "      <td>0</td>\n",
       "      <td>0</td>\n",
       "      <td>0</td>\n",
       "      <td>1</td>\n",
       "      <td>0</td>\n",
       "      <td>...</td>\n",
       "      <td>0</td>\n",
       "      <td>0</td>\n",
       "      <td>1</td>\n",
       "      <td>0</td>\n",
       "      <td>0</td>\n",
       "      <td>0</td>\n",
       "      <td>0</td>\n",
       "      <td>1</td>\n",
       "      <td>0</td>\n",
       "      <td>0</td>\n",
       "    </tr>\n",
       "    <tr>\n",
       "      <th>2</th>\n",
       "      <td>4</td>\n",
       "      <td>43.368662</td>\n",
       "      <td>-81.001913</td>\n",
       "      <td>1</td>\n",
       "      <td>0</td>\n",
       "      <td>0</td>\n",
       "      <td>0</td>\n",
       "      <td>0</td>\n",
       "      <td>0</td>\n",
       "      <td>1</td>\n",
       "      <td>...</td>\n",
       "      <td>0</td>\n",
       "      <td>0</td>\n",
       "      <td>0</td>\n",
       "      <td>0</td>\n",
       "      <td>0</td>\n",
       "      <td>0</td>\n",
       "      <td>0</td>\n",
       "      <td>1</td>\n",
       "      <td>0</td>\n",
       "      <td>0</td>\n",
       "    </tr>\n",
       "    <tr>\n",
       "      <th>3</th>\n",
       "      <td>3</td>\n",
       "      <td>43.647471</td>\n",
       "      <td>-79.708893</td>\n",
       "      <td>0</td>\n",
       "      <td>1</td>\n",
       "      <td>0</td>\n",
       "      <td>0</td>\n",
       "      <td>0</td>\n",
       "      <td>1</td>\n",
       "      <td>0</td>\n",
       "      <td>...</td>\n",
       "      <td>0</td>\n",
       "      <td>0</td>\n",
       "      <td>0</td>\n",
       "      <td>0</td>\n",
       "      <td>0</td>\n",
       "      <td>0</td>\n",
       "      <td>1</td>\n",
       "      <td>0</td>\n",
       "      <td>0</td>\n",
       "      <td>0</td>\n",
       "    </tr>\n",
       "    <tr>\n",
       "      <th>4</th>\n",
       "      <td>6</td>\n",
       "      <td>42.981468</td>\n",
       "      <td>-81.254016</td>\n",
       "      <td>0</td>\n",
       "      <td>1</td>\n",
       "      <td>0</td>\n",
       "      <td>0</td>\n",
       "      <td>0</td>\n",
       "      <td>1</td>\n",
       "      <td>0</td>\n",
       "      <td>...</td>\n",
       "      <td>0</td>\n",
       "      <td>0</td>\n",
       "      <td>0</td>\n",
       "      <td>0</td>\n",
       "      <td>0</td>\n",
       "      <td>0</td>\n",
       "      <td>1</td>\n",
       "      <td>0</td>\n",
       "      <td>0</td>\n",
       "      <td>0</td>\n",
       "    </tr>\n",
       "  </tbody>\n",
       "</table>\n",
       "<p>5 rows × 48 columns</p>\n",
       "</div>"
      ],
      "text/plain": [
       "   Age        Lat       Long  Gender_FEMALE  Gender_MALE  Gender_UNSPECIFIED  \\\n",
       "0    8  43.656591 -79.379358              1            0                   0   \n",
       "1    8  43.656591 -79.379358              0            1                   0   \n",
       "2    4  43.368662 -81.001913              1            0                   0   \n",
       "3    3  43.647471 -79.708893              0            1                   0   \n",
       "4    6  42.981468 -81.254016              0            1                   0   \n",
       "\n",
       "   Acq_CC  Acq_MISSING INFORMATION  Acq_NO KNOWN EPI LINK  Acq_OB  ...  \\\n",
       "0       0                        1                      0       0  ...   \n",
       "1       0                        0                      1       0  ...   \n",
       "2       0                        0                      0       1  ...   \n",
       "3       0                        0                      1       0  ...   \n",
       "4       0                        0                      1       0  ...   \n",
       "\n",
       "   City_Thunder Bay  City_Timmins  City_Toronto  City_Waterloo  City_Whitby  \\\n",
       "0                 0             0             1              0            0   \n",
       "1                 0             0             1              0            0   \n",
       "2                 0             0             0              0            0   \n",
       "3                 0             0             0              0            0   \n",
       "4                 0             0             0              0            0   \n",
       "\n",
       "   City_Windsor  Outbreak_No  Outbreak_Yes  Sault Ste. Marie  Pembroke  \n",
       "0             0            1             0                 0         0  \n",
       "1             0            0             1                 0         0  \n",
       "2             0            0             1                 0         0  \n",
       "3             0            1             0                 0         0  \n",
       "4             0            1             0                 0         0  \n",
       "\n",
       "[5 rows x 48 columns]"
      ]
     },
     "execution_count": 104,
     "metadata": {},
     "output_type": "execute_result"
    }
   ],
   "source": [
    "test.head()"
   ]
  },
  {
   "cell_type": "code",
   "execution_count": 108,
   "metadata": {},
   "outputs": [],
   "source": [
    "# model = ensemble.RandomForestClassifier(max_depth = 10, n_estimators = 200, random_state = 0 )\n",
    "model = ensemble.GradientBoostingClassifier(n_estimators = 50, random_state = 0 )\n",
    "model.fit(X, y)\n",
    "pred = model.predict(test)"
   ]
  },
  {
   "cell_type": "code",
   "execution_count": 109,
   "metadata": {},
   "outputs": [],
   "source": [
    "output = pd.DataFrame({'id':list(range(len(pred))), 'Outcome1':pred})"
   ]
  },
  {
   "cell_type": "code",
   "execution_count": 110,
   "metadata": {},
   "outputs": [],
   "source": [
    "output.to_csv('covid_result3.csv', index=False)"
   ]
  },
  {
   "cell_type": "code",
   "execution_count": 111,
   "metadata": {},
   "outputs": [],
   "source": [
    "# RF: 10,150 - 0.81054, 10,200- 0.81122\n",
    "# GB: 0.80437"
   ]
  },
  {
   "cell_type": "code",
   "execution_count": null,
   "metadata": {},
   "outputs": [],
   "source": []
  }
 ],
 "metadata": {
  "kernelspec": {
   "display_name": "Python 3",
   "language": "python",
   "name": "python3"
  },
  "language_info": {
   "codemirror_mode": {
    "name": "ipython",
    "version": 3
   },
   "file_extension": ".py",
   "mimetype": "text/x-python",
   "name": "python",
   "nbconvert_exporter": "python",
   "pygments_lexer": "ipython3",
   "version": "3.8.5"
  }
 },
 "nbformat": 4,
 "nbformat_minor": 4
}
